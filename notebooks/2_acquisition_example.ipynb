{
 "cells": [
  {
   "cell_type": "markdown",
   "id": "de3ee66e",
   "metadata": {},
   "source": [
    "# Acquisition example"
   ]
  },
  {
   "cell_type": "markdown",
   "id": "5972717f",
   "metadata": {},
   "source": [
    "In this notebook we demonstrate a simple Bayesian optimization loop"
   ]
  },
  {
   "cell_type": "markdown",
   "id": "b922b175",
   "metadata": {},
   "source": [
    "## Initialize a problem"
   ]
  },
  {
   "cell_type": "markdown",
   "id": "548518f0",
   "metadata": {},
   "source": [
    "We will initialize the ZDT1 benchmark with two-dimensional inputs and outputs."
   ]
  },
  {
   "cell_type": "code",
   "execution_count": 1,
   "id": "1e599e24",
   "metadata": {},
   "outputs": [],
   "source": [
    "import torch\n",
    "\n",
    "from botorch.utils.sampling import draw_sobol_samples\n",
    "from botorch.test_functions.multi_objective import ZDT1"
   ]
  },
  {
   "cell_type": "code",
   "execution_count": 2,
   "id": "f9d08206",
   "metadata": {},
   "outputs": [],
   "source": [
    "d = 2\n",
    "M = 2\n",
    "n = 6\n",
    "\n",
    "problem = ZDT1(dim=d, num_objectives=M, noise_std=0, negate=True)\n",
    "bounds = problem.bounds\n",
    "\n",
    "# `n x d`\n",
    "train_X = draw_sobol_samples(bounds=bounds, n=n, q=1, seed=123).squeeze(-2)\n",
    "train_Y = problem(train_X)"
   ]
  },
  {
   "cell_type": "markdown",
   "id": "ffb411b0",
   "metadata": {},
   "source": [
    "## Acquire"
   ]
  },
  {
   "cell_type": "markdown",
   "id": "aebf645c",
   "metadata": {},
   "source": [
    "We now initialize and optimize some acquisition functions. All acquisition functions apart from the PES are optimized using the multi-start L-BFGS algorithm implemented by BoTorch's optimize_acqf method. We find that the automatic gradient inferred for the PES acquisition function to be unreliable, hence we estimate the gradients using finite differences---more details are in the preamble of jes.acquisition.pes."
   ]
  },
  {
   "cell_type": "code",
   "execution_count": 3,
   "id": "f6ef2c7b",
   "metadata": {},
   "outputs": [],
   "source": [
    "import time\n",
    "from jes.utils.bo_loop import bo_loop\n",
    "from botorch.utils.transforms import unnormalize, normalize"
   ]
  },
  {
   "cell_type": "code",
   "execution_count": 4,
   "id": "e0658af9",
   "metadata": {},
   "outputs": [],
   "source": [
    "standard_bounds = torch.zeros(2, d)\n",
    "standard_bounds[1] = 1.0\n",
    "algos = [\"ts\", \"parego\", \"ehvi\", \"jes_lb\", \"mes_lb\", \"pes\"]\n",
    "x_list = []"
   ]
  },
  {
   "cell_type": "code",
   "execution_count": 5,
   "id": "8fb1164c",
   "metadata": {},
   "outputs": [
    {
     "name": "stdout",
     "output_type": "stream",
     "text": [
      "Algo = ts, Time taken = 1.79\n",
      "Algo = parego, Time taken = 0.59\n",
      "Algo = ehvi, Time taken = 0.43\n",
      "Algo = jes_lb, Time taken = 16.09\n",
      "Algo = mes_lb, Time taken = 15.23\n",
      "Algo = pes, Time taken = 64.14\n"
     ]
    }
   ],
   "source": [
    "for a in algos:\n",
    "    init_time = time.time()\n",
    "    x = bo_loop(\n",
    "        train_X=normalize(train_X, bounds),\n",
    "        train_Y=train_Y,\n",
    "        num_outputs=M,\n",
    "        bounds=standard_bounds,\n",
    "        acquisition_type=a,\n",
    "        num_pareto_samples=10,\n",
    "        num_pareto_points=10,\n",
    "        num_greedy=10,\n",
    "        num_samples=128,\n",
    "        num_restarts=10,\n",
    "        raw_samples=1000,\n",
    "        batch_size=1\n",
    "    )\n",
    "    x = unnormalize(x, bounds)\n",
    "    x_list = x_list + [x]\n",
    "    print(\"Algo = {}, Time taken = {:4.2f}\".format(a, time.time() - init_time))"
   ]
  },
  {
   "cell_type": "markdown",
   "id": "3d63a562",
   "metadata": {},
   "source": [
    "## Plot"
   ]
  },
  {
   "cell_type": "code",
   "execution_count": 6,
   "id": "8e472a24",
   "metadata": {},
   "outputs": [],
   "source": [
    "import matplotlib.pyplot as plt"
   ]
  },
  {
   "cell_type": "code",
   "execution_count": 7,
   "id": "7edf2be7",
   "metadata": {},
   "outputs": [
    {
     "data": {
      "image/png": "[encoded data removed]",
      "text/plain": [
       "<Figure size 360x360 with 1 Axes>"
      ]
     },
     "metadata": {
      "needs_background": "light"
     },
     "output_type": "display_data"
    }
   ],
   "source": [
    "fig = plt.figure(figsize=(5, 5))\n",
    "plt.scatter(train_X[:, 0], train_X[:, 1], marker=\".\", s=100, label=\"Observations\")\n",
    "    \n",
    "for i, a in enumerate(algos):\n",
    "    x = x_list[i]\n",
    "    plt.scatter(x[0, 0], x[0, 1], marker=\"x\", s=100, label=a)\n",
    "plt.xlabel(\"x1\")\n",
    "plt.ylabel(\"x2\")\n",
    "plt.title(\"Input space\")\n",
    "plt.legend()\n",
    "plt.show()"
   ]
  },
  {
   "cell_type": "code",
   "execution_count": null,
   "id": "73f588e0",
   "metadata": {},
   "outputs": [],
   "source": []
  }
 ],
 "metadata": {
  "kernelspec": {
   "display_name": "Python 3 (ipykernel)",
   "language": "python",
   "name": "python3"
  },
  "language_info": {
   "codemirror_mode": {
    "name": "ipython",
    "version": 3
   },
   "file_extension": ".py",
   "mimetype": "text/x-python",
   "name": "python",
   "nbconvert_exporter": "python",
   "pygments_lexer": "ipython3",
   "version": "3.8.12"
  }
 },
 "nbformat": 4,
 "nbformat_minor": 5
}
